{
 "cells": [
  {
   "cell_type": "code",
   "execution_count": 8,
   "metadata": {},
   "outputs": [
    {
     "name": "stdout",
     "output_type": "stream",
     "text": [
      "+\n",
      "-\n",
      "*\n",
      "/\n",
      "10 + 10 = 20\n",
      "20 - 5 = 15\n",
      "+\n",
      "-\n",
      "*\n",
      "/\n",
      "10 * 12 = 120\n",
      "120 / 12 = 10.0\n",
      "bye\n"
     ]
    }
   ],
   "source": [
    "def add(a,b):\n",
    "    return a+b\n",
    "def subtract(a,b):\n",
    "    return a-b\n",
    "def multiply(a,b):\n",
    "    return a*b\n",
    "def divide(a,b):\n",
    "    return a/b\n",
    "operations={\n",
    "    \"+\": add,\n",
    "    \"-\": subtract,\n",
    "    \"*\": multiply,\n",
    "    \"/\" : divide\n",
    "\n",
    "}\n",
    "def calculator():\n",
    "    num1=int(input('Enter first number:'))\n",
    "    for i in operations:\n",
    "        print(i)\n",
    "    con=True    \n",
    "    while con:    \n",
    "        op=input('Pick an operation')\n",
    "        num2=int(input('Enter next number '))\n",
    "        calculator_function=operations[op]\n",
    "        output=calculator_function(num1,num2)\n",
    "        print(f'{num1} {op} {num2} = {output}')\n",
    "        again=input('Do you want to continue?.Type \"y\" to continue calculation , \"n\" to start new calculation and \"x\" to exit.' ).lower()\n",
    "        if again == 'y':\n",
    "            num1=output\n",
    "        elif again=='n':\n",
    "            con =False\n",
    "            calculator()\n",
    "        elif again=='x':\n",
    "            con =False\n",
    "            print('bye')\n",
    "calculator()        "
   ]
  },
  {
   "cell_type": "code",
   "execution_count": null,
   "metadata": {},
   "outputs": [],
   "source": []
  }
 ],
 "metadata": {
  "kernelspec": {
   "display_name": "base",
   "language": "python",
   "name": "python3"
  },
  "language_info": {
   "codemirror_mode": {
    "name": "ipython",
    "version": 3
   },
   "file_extension": ".py",
   "mimetype": "text/x-python",
   "name": "python",
   "nbconvert_exporter": "python",
   "pygments_lexer": "ipython3",
   "version": "3.10.10"
  },
  "orig_nbformat": 4
 },
 "nbformat": 4,
 "nbformat_minor": 2
}
