{
 "cells": [
  {
   "cell_type": "code",
   "execution_count": 1,
   "metadata": {},
   "outputs": [
    {
     "name": "stdout",
     "output_type": "stream",
     "text": [
      "Welcome shanza!\n",
      "Guess the word. You have 6 lives\n",
      "['_', '_', '_', '_', '_', '_']\n",
      "['_', '_', 'a', '_', '_', '_']\n",
      "['_', 'r', 'a', '_', '_', '_']\n",
      "Wrong choice.You have 5 more lives\n",
      "Wrong choice.You have 4 more lives\n",
      "['g', 'r', 'a', '_', '_', '_']\n",
      "['g', 'r', 'a', 'p', '_', '_']\n",
      "['g', 'r', 'a', 'p', 'e', '_']\n",
      "['g', 'r', 'a', 'p', 'e', 's']\n",
      "You won! The correct answer is grapes\n"
     ]
    }
   ],
   "source": [
    "import random\n",
    "list1=['mango', 'apple','grapes']\n",
    "name=input('Enter your name')\n",
    "print(f'Welcome {name}!')\n",
    "print('Guess the word. You have 6 lives') \n",
    "chosen_word=random.choice(list1) \n",
    "blanks=[] \n",
    "for letter in chosen_word:\n",
    "    letter = '_'\n",
    "    blanks.append(letter)\n",
    "print(blanks)\n",
    "lives=6 \n",
    "game_over=False\n",
    "while not game_over:\n",
    "    guess=input('Guess a letter').lower()\n",
    "    for position in range(len(chosen_word)):\n",
    "        letter = chosen_word[position]\n",
    "        if letter==guess:\n",
    "            blanks[position]=guess\n",
    "            print(blanks)    \n",
    "    if guess not in chosen_word:\n",
    "        lives-=1 \n",
    "        print(f'Wrong choice.You have {lives} more lives' ) \n",
    "        if lives==0:\n",
    "            game_over=True\n",
    "            print(f'You lose! The correct answer is {chosen_word}') \n",
    "            break\n",
    "    if '_' not in blanks:\n",
    "        game_over=True\n",
    "        print (f'You won! The correct answer is {chosen_word}')       \n",
    "        break"
   ]
  },
  {
   "cell_type": "code",
   "execution_count": null,
   "metadata": {},
   "outputs": [],
   "source": []
  },
  {
   "cell_type": "code",
   "execution_count": null,
   "metadata": {},
   "outputs": [],
   "source": []
  },
  {
   "cell_type": "code",
   "execution_count": null,
   "metadata": {},
   "outputs": [],
   "source": []
  }
 ],
 "metadata": {
  "kernelspec": {
   "display_name": "base",
   "language": "python",
   "name": "python3"
  },
  "language_info": {
   "codemirror_mode": {
    "name": "ipython",
    "version": 3
   },
   "file_extension": ".py",
   "mimetype": "text/x-python",
   "name": "python",
   "nbconvert_exporter": "python",
   "pygments_lexer": "ipython3",
   "version": "3.10.10"
  },
  "orig_nbformat": 4
 },
 "nbformat": 4,
 "nbformat_minor": 2
}
