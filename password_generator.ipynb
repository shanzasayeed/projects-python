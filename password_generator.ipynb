{
 "cells": [
  {
   "cell_type": "code",
   "execution_count": 41,
   "metadata": {},
   "outputs": [
    {
     "name": "stdout",
     "output_type": "stream",
     "text": [
      "Welcome to password generator\n",
      "WMyEU29!@@!!%*\n"
     ]
    }
   ],
   "source": [
    "#unshuffled password\n",
    "import random\n",
    "print('Welcome to password generator' )\n",
    "no_of_letters=int(input('How many letters do you want?'))\n",
    "no_of_digits=int(input('How many digits do you want?'))\n",
    "no_of_symbols=int(input('How many symbols do you want?'))\n",
    "password=''\n",
    "list_of_letters=['q','w','e','r','t','y','u','i','o','p','a','s','d','f','g','h','j','k','l','z','x','c','v','b','n','m','Q','W','E','R','T','Y','U','I','O','P','A','S','D','F','G','H','J','K','L','Z','X','C','V','B','N','M']\n",
    "list_of_symbols=['!','@','#','$','%','^','&','*','(',')']\n",
    "list_of_digits=['0','1','2','3','4','5','6','7','8','9']\n",
    "for i in range(no_of_letters):\n",
    "    letters=random.choice(list_of_letters)\n",
    "    password += letters\n",
    "for i in range(no_of_digits):\n",
    "    digits=random.choice(list_of_digits)\n",
    "    password += digits    \n",
    "for i in range(no_of_symbols):\n",
    "    symbols=random.choice(list_of_symbols)\n",
    "    password += symbols\n",
    "print(password)"
   ]
  },
  {
   "cell_type": "code",
   "execution_count": 43,
   "metadata": {},
   "outputs": [
    {
     "name": "stdout",
     "output_type": "stream",
     "text": [
      "Welcome to password generator\n",
      "E(6py00(w\n"
     ]
    }
   ],
   "source": [
    "#shuffled password\n",
    "import random\n",
    "print('Welcome to password generator' )\n",
    "no_of_letters=int(input('How many letters do you want?'))\n",
    "no_of_digits=int(input('How many digits do you want?'))\n",
    "no_of_symbols=int(input('How many symbols do you want?'))\n",
    "password_list=[]\n",
    "list_of_letters=['q','w','e','r','t','y','u','i','o','p','a','s','d','f','g','h','j','k','l','z','x','c','v','b','n','m','Q','W','E','R','T','Y','U','I','O','P','A','S','D','F','G','H','J','K','L','Z','X','C','V','B','N','M']\n",
    "list_of_symbols=['!','@','#','$','%','^','&','*','(',')']\n",
    "list_of_digits=['0','1','2','3','4','5','6','7','8','9']\n",
    "for i in range(no_of_letters):\n",
    "    letters=random.choice(list_of_letters)\n",
    "    password_list.append(letters)\n",
    "for i in range(no_of_digits):\n",
    "    digits=random.choice(list_of_digits)\n",
    "    password_list.append(digits)    \n",
    "for i in range(no_of_symbols):\n",
    "    symbols=random.choice(list_of_symbols)\n",
    "    password_list.append(symbols)\n",
    "random.shuffle(password_list)\n",
    "passwordd=''\n",
    "for i in password_list:\n",
    "    passwordd += i\n",
    "print(passwordd)    "
   ]
  },
  {
   "cell_type": "code",
   "execution_count": null,
   "metadata": {},
   "outputs": [],
   "source": []
  },
  {
   "cell_type": "code",
   "execution_count": null,
   "metadata": {},
   "outputs": [],
   "source": []
  }
 ],
 "metadata": {
  "kernelspec": {
   "display_name": "base",
   "language": "python",
   "name": "python3"
  },
  "language_info": {
   "codemirror_mode": {
    "name": "ipython",
    "version": 3
   },
   "file_extension": ".py",
   "mimetype": "text/x-python",
   "name": "python",
   "nbconvert_exporter": "python",
   "pygments_lexer": "ipython3",
   "version": "3.10.10"
  },
  "orig_nbformat": 4
 },
 "nbformat": 4,
 "nbformat_minor": 2
}
