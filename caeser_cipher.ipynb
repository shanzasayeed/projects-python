{
 "cells": [
  {
   "cell_type": "code",
   "execution_count": 31,
   "metadata": {},
   "outputs": [
    {
     "name": "stdout",
     "output_type": "stream",
     "text": [
      "Here is the text after encryption: tiboab 123\n",
      "Here is the text after encryption: shanza 123\n",
      "Goodbye! Have a nice day\n"
     ]
    }
   ],
   "source": [
    "list1=['a','b','c','d','e','f','g','h','i','j','k','l','m','n','o','p','q','r','s','t','u','v','w','x','y','z']\n",
    "def encrypt(plain_text,k):\n",
    "    ctext= ''\n",
    "    for letter in plain_text:\n",
    "        if letter  in list1:\n",
    "            letter_position=list1.index(letter)\n",
    "            new_letter_position=(letter_position+k)%26\n",
    "            new_letter=list1[new_letter_position]\n",
    "            ctext += new_letter\n",
    "        else:    \n",
    "            ctext += letter\n",
    "    print('Here is the text after encryption:' , ctext)        \n",
    "def decrypt(cipher_text,k):\n",
    "    ptext=''\n",
    "    for letter in cipher_text:\n",
    "        if letter  in list1:\n",
    "            letter_position=list1.index(letter)\n",
    "            new_letter_position=(letter_position-k)%26\n",
    "            new_letter=list1[new_letter_position]\n",
    "            ptext += new_letter\n",
    "        else:\n",
    "            ptext += letter\n",
    "\n",
    "    print('Here is the text after encryption:' , ptext)      \n",
    "end=False\n",
    "while not end: \n",
    "    action=input('Type \"encrypt\" for encryption and \"decrypt\" for decryption').lower()\n",
    "    message=input('Enter your message').lower()\n",
    "    key=int(input('Enter key'))   \n",
    "    if action=='encrypt':  \n",
    "        encrypt(message,key) \n",
    "    elif action=='decrypt':    \n",
    "        decrypt(message,key)      \n",
    "    again=input('Type \"y\" to continue,type \"n\" to exit.').lower()    \n",
    "    if again=='n':\n",
    "        end=True\n",
    "        print('Goodbye! Have a nice day')  \n",
    " "
   ]
  },
  {
   "cell_type": "code",
   "execution_count": null,
   "metadata": {},
   "outputs": [],
   "source": []
  }
 ],
 "metadata": {
  "kernelspec": {
   "display_name": "base",
   "language": "python",
   "name": "python3"
  },
  "language_info": {
   "codemirror_mode": {
    "name": "ipython",
    "version": 3
   },
   "file_extension": ".py",
   "mimetype": "text/x-python",
   "name": "python",
   "nbconvert_exporter": "python",
   "pygments_lexer": "ipython3",
   "version": "3.10.10"
  },
  "orig_nbformat": 4
 },
 "nbformat": 4,
 "nbformat_minor": 2
}
