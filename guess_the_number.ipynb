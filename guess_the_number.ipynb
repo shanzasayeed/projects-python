{
 "cells": [
  {
   "cell_type": "code",
   "execution_count": 2,
   "metadata": {},
   "outputs": [
    {
     "name": "stdout",
     "output_type": "stream",
     "text": [
      "14\n",
      "You have 5 lives left\n",
      "12 is too low. \n",
      "Guess again:\n",
      "You have 4 lives left\n",
      "34 is too high\n",
      "Guess again:\n",
      "You have 3 lives left\n",
      "56 is too high\n",
      "Guess again:\n",
      "You have 2 lives left\n",
      "23 is too high\n",
      "Guess again:\n",
      "You have 1 lives left\n",
      "34 is too high\n",
      "You are out of guesses...you lose!\n"
     ]
    }
   ],
   "source": [
    "import random\n",
    "def game():\n",
    "    chosen_number=random.randint(1,50)\n",
    "    #print(chosen_number)\n",
    "    level=input('Chose level of difficulty : \"easy\" or \"hard\".').lower()\n",
    "    easy_level_attempts=10\n",
    "    hard_level_attempts=5\n",
    "    num=0\n",
    "    def attempts(level):\n",
    "            if level=='easy':\n",
    "                return easy_level_attempts\n",
    "            elif level=='hard':\n",
    "                return hard_level_attempts \n",
    "    lives=attempts(level)\n",
    "    num=0         \n",
    "    def check_number(num,chosen_number,lives):                  \n",
    "        if num<chosen_number:\n",
    "            print(f'{num} is too low. ')\n",
    "            return lives-1\n",
    "        elif num>chosen_number:\n",
    "            print(f'{num} is too high')\n",
    "            return lives-1\n",
    "        else:\n",
    "            print(f'{num} is correct.You won ')\n",
    "    \n",
    "    while num!=chosen_number :  \n",
    "        print(f'You have {lives} lives left') \n",
    "        num=int(input('Make a guess:'))\n",
    "        lives=check_number(num,chosen_number,lives) \n",
    "        if lives==0:\n",
    "            print('You are out of guesses...you lose!')\n",
    "            return\n",
    "        elif num!=chosen_number:\n",
    "            print('Guess again:')\n",
    "           \n",
    "game()                  \n",
    "          \n",
    "\n",
    "\n",
    "    \n",
    "    \n",
    "\n",
    "    \n",
    "\n",
    "\n",
    "\n"
   ]
  },
  {
   "cell_type": "code",
   "execution_count": null,
   "metadata": {},
   "outputs": [],
   "source": []
  },
  {
   "cell_type": "code",
   "execution_count": null,
   "metadata": {},
   "outputs": [],
   "source": []
  }
 ],
 "metadata": {
  "kernelspec": {
   "display_name": "base",
   "language": "python",
   "name": "python3"
  },
  "language_info": {
   "codemirror_mode": {
    "name": "ipython",
    "version": 3
   },
   "file_extension": ".py",
   "mimetype": "text/x-python",
   "name": "python",
   "nbconvert_exporter": "python",
   "pygments_lexer": "ipython3",
   "version": "3.10.10"
  },
  "orig_nbformat": 4
 },
 "nbformat": 4,
 "nbformat_minor": 2
}
