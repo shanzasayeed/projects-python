{
 "cells": [
  {
   "cell_type": "code",
   "execution_count": 1,
   "metadata": {},
   "outputs": [
    {
     "name": "stdout",
     "output_type": "stream",
     "text": [
      "Computer chose: paper\n",
      "User chose:rock\n",
      "You lose\n",
      "Thanks for playing!\n"
     ]
    }
   ],
   "source": [
    "import random\n",
    "game_choice=['rock','paper', 'scissors']\n",
    "play_again='y'\n",
    "while play_again=='y' or play_again=='Y':\n",
    "    user_choice=int(input('Enter your choice: Type 0 for rock,1 for paper and 2 for scissors'))\n",
    "    if user_choice>=0 and user_choice<=2:\n",
    "        comp_choice=random.randint(0,2) \n",
    "        print(f'Computer chose: {game_choice[comp_choice]}')\n",
    "        print(f'User chose:{game_choice[user_choice]}')\n",
    "        if user_choice==comp_choice:\n",
    "            print('Match Draw')\n",
    "        elif user_choice==0 and comp_choice==2:  \n",
    "            print('You win')\n",
    "        elif user_choice==2 and comp_choice==0:  \n",
    "            print('You lose')\n",
    "        elif user_choice>comp_choice:\n",
    "            print('You win')\n",
    "        elif user_choice<comp_choice:\n",
    "            print('You lose')    \n",
    "    else:\n",
    "        print('Wrong input')  \n",
    "    play_again= input(\"Do you want to play again? Enter 'y' for yes and 'n' for no\")     \n",
    "    if play_again.lower=='n':  \n",
    "        break\n",
    "print('Thanks for playing!')\n",
    "\n",
    "\n"
   ]
  },
  {
   "cell_type": "code",
   "execution_count": null,
   "metadata": {},
   "outputs": [],
   "source": [
    "\n"
   ]
  },
  {
   "cell_type": "code",
   "execution_count": null,
   "metadata": {},
   "outputs": [],
   "source": []
  }
 ],
 "metadata": {
  "kernelspec": {
   "display_name": "base",
   "language": "python",
   "name": "python3"
  },
  "language_info": {
   "codemirror_mode": {
    "name": "ipython",
    "version": 3
   },
   "file_extension": ".py",
   "mimetype": "text/x-python",
   "name": "python",
   "nbconvert_exporter": "python",
   "pygments_lexer": "ipython3",
   "version": "3.10.10"
  },
  "orig_nbformat": 4
 },
 "nbformat": 4,
 "nbformat_minor": 2
}
