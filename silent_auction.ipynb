{
 "cells": [
  {
   "cell_type": "code",
   "execution_count": 12,
   "metadata": {},
   "outputs": [],
   "source": [
    "# print('*****Welcome to the silent auction program*****')\n",
    "# other_bidders= False\n",
    "# highest_bid=0\n",
    "# while not other_bidders:\n",
    "#     name=input('What is your name?')\n",
    "#     bid=int(input('What is your bid?'))\n",
    "#     if bid>highest_bid:\n",
    "#         highest_bid=bid\n",
    "#         highest_bidder=name\n",
    "#     other=input('Are there any  other bidders?Type \"yes\" or \"no\".').lower()\n",
    "#     if other == 'no':\n",
    "#         other_bidders=True\n",
    "# print(f'The winner is {highest_bidder} with a bid of {highest_bid} ')        \n",
    "\n",
    "\n"
   ]
  },
  {
   "cell_type": "code",
   "execution_count": 13,
   "metadata": {},
   "outputs": [
    {
     "name": "stdout",
     "output_type": "stream",
     "text": [
      "*****Welcome to the silent auction program*****\n",
      "The winner is shanza with a bid of 80000 \n"
     ]
    }
   ],
   "source": [
    "import os\n",
    "print('*****Welcome to the silent auction program*****')\n",
    "def find_winner(bidder_details):\n",
    "    highest_bid=0\n",
    "    for bidder in bidder_data:\n",
    "        bidding_price=bidder_data[bidder]\n",
    "        if bidding_price>highest_bid:\n",
    "            highest_bid=bidding_price\n",
    "            winner=bidder\n",
    "    print(f'The winner is {winner} with a bid of {highest_bid} ')         \n",
    "bidder_data={}\n",
    "end_of_bidding= False\n",
    "while not end_of_bidding:\n",
    "    name=input('What is your name?')\n",
    "    bid=int(input('What is your bid?'))\n",
    "    bidder_data[name]=bid\n",
    "    other=input('Are there any  other bidders?Type \"yes\" or \"no\".').lower()\n",
    "    if other == 'no':\n",
    "        end_of_bidding=True\n",
    "        find_winner(bidder_data)\n",
    "    elif other=='yes':\n",
    "        os.system('cls')    \n",
    "        \n"
   ]
  },
  {
   "cell_type": "code",
   "execution_count": null,
   "metadata": {},
   "outputs": [],
   "source": []
  }
 ],
 "metadata": {
  "kernelspec": {
   "display_name": "base",
   "language": "python",
   "name": "python3"
  },
  "language_info": {
   "codemirror_mode": {
    "name": "ipython",
    "version": 3
   },
   "file_extension": ".py",
   "mimetype": "text/x-python",
   "name": "python",
   "nbconvert_exporter": "python",
   "pygments_lexer": "ipython3",
   "version": "3.10.10"
  },
  "orig_nbformat": 4
 },
 "nbformat": 4,
 "nbformat_minor": 2
}
